{
  "cells": [
    {
      "cell_type": "markdown",
      "metadata": {
        "id": "No4AddiV6Mjv"
      },
      "source": []
    },
    {
      "cell_type": "markdown",
      "metadata": {
        "id": "uE-xZOZD-XCI"
      },
      "source": [
        "PROBLEM STATEMENT : The real estate markets, like those in Sydney and Melbourne, present an interesting opportunity for data analysts to analyze and predict where property prices are moving towards. Prediction of property prices is becoming increasingly important and beneficial. Property prices are a good indicator of both the overall market condition and the economic health of a country. Considering the data provided, we are wrangling a large set of property sales records stored in an unknown format and with unknown data quality issues"
      ]
    },
    {
      "cell_type": "code",
      "execution_count": null,
      "metadata": {
        "id": "aR-KPjJe-8El"
      },
      "outputs": [],
      "source": [
        "import pandas as pd\n",
        "import numpy as np\n",
        "import seaborn as sns\n",
        "import matplotlib.pyplot as plt\n",
        "import plotly.express as px   \n",
        "from sklearn.linear_model import LinearRegression\n",
        "from sklearn.model_selection import train_test_split"
      ]
    },
    {
      "cell_type": "code",
      "execution_count": null,
      "metadata": {
        "id": "NEKn1_6L-F5e"
      },
      "outputs": [],
      "source": [
        "estate_df=pd.read_csv('data.csv')"
      ]
    },
    {
      "cell_type": "code",
      "execution_count": null,
      "metadata": {
        "colab": {
          "base_uri": "https://localhost:8080/",
          "height": 852
        },
        "id": "q8--gISo_icj",
        "outputId": "b083bb47-2ead-4803-cbb3-de0c64ed4c6e"
      },
      "outputs": [
        {
          "data": {
            "text/html": [
              "\n",
              "  <div id=\"df-e1cd2a69-fa5c-495f-8f37-a4765d8d2092\">\n",
              "    <div class=\"colab-df-container\">\n",
              "      <div>\n",
              "<style scoped>\n",
              "    .dataframe tbody tr th:only-of-type {\n",
              "        vertical-align: middle;\n",
              "    }\n",
              "\n",
              "    .dataframe tbody tr th {\n",
              "        vertical-align: top;\n",
              "    }\n",
              "\n",
              "    .dataframe thead th {\n",
              "        text-align: right;\n",
              "    }\n",
              "</style>\n",
              "<table border=\"1\" class=\"dataframe\">\n",
              "  <thead>\n",
              "    <tr style=\"text-align: right;\">\n",
              "      <th></th>\n",
              "      <th>date</th>\n",
              "      <th>price</th>\n",
              "      <th>bedrooms</th>\n",
              "      <th>bathrooms</th>\n",
              "      <th>sqft_living</th>\n",
              "      <th>sqft_lot</th>\n",
              "      <th>floors</th>\n",
              "      <th>waterfront</th>\n",
              "      <th>view</th>\n",
              "      <th>condition</th>\n",
              "      <th>sqft_above</th>\n",
              "      <th>sqft_basement</th>\n",
              "      <th>yr_built</th>\n",
              "      <th>yr_renovated</th>\n",
              "      <th>street</th>\n",
              "      <th>city</th>\n",
              "      <th>statezip</th>\n",
              "      <th>country</th>\n",
              "    </tr>\n",
              "  </thead>\n",
              "  <tbody>\n",
              "    <tr>\n",
              "      <th>0</th>\n",
              "      <td>2014-05-02 00:00:00</td>\n",
              "      <td>3.130000e+05</td>\n",
              "      <td>3.0</td>\n",
              "      <td>1.50</td>\n",
              "      <td>1340</td>\n",
              "      <td>7912</td>\n",
              "      <td>1.5</td>\n",
              "      <td>0</td>\n",
              "      <td>0</td>\n",
              "      <td>3</td>\n",
              "      <td>1340</td>\n",
              "      <td>0</td>\n",
              "      <td>1955</td>\n",
              "      <td>2005</td>\n",
              "      <td>18810 Densmore Ave N</td>\n",
              "      <td>Shoreline</td>\n",
              "      <td>WA 98133</td>\n",
              "      <td>USA</td>\n",
              "    </tr>\n",
              "    <tr>\n",
              "      <th>1</th>\n",
              "      <td>2014-05-02 00:00:00</td>\n",
              "      <td>2.384000e+06</td>\n",
              "      <td>5.0</td>\n",
              "      <td>2.50</td>\n",
              "      <td>3650</td>\n",
              "      <td>9050</td>\n",
              "      <td>2.0</td>\n",
              "      <td>0</td>\n",
              "      <td>4</td>\n",
              "      <td>5</td>\n",
              "      <td>3370</td>\n",
              "      <td>280</td>\n",
              "      <td>1921</td>\n",
              "      <td>0</td>\n",
              "      <td>709 W Blaine St</td>\n",
              "      <td>Seattle</td>\n",
              "      <td>WA 98119</td>\n",
              "      <td>USA</td>\n",
              "    </tr>\n",
              "    <tr>\n",
              "      <th>2</th>\n",
              "      <td>2014-05-02 00:00:00</td>\n",
              "      <td>3.420000e+05</td>\n",
              "      <td>3.0</td>\n",
              "      <td>2.00</td>\n",
              "      <td>1930</td>\n",
              "      <td>11947</td>\n",
              "      <td>1.0</td>\n",
              "      <td>0</td>\n",
              "      <td>0</td>\n",
              "      <td>4</td>\n",
              "      <td>1930</td>\n",
              "      <td>0</td>\n",
              "      <td>1966</td>\n",
              "      <td>0</td>\n",
              "      <td>26206-26214 143rd Ave SE</td>\n",
              "      <td>Kent</td>\n",
              "      <td>WA 98042</td>\n",
              "      <td>USA</td>\n",
              "    </tr>\n",
              "    <tr>\n",
              "      <th>3</th>\n",
              "      <td>2014-05-02 00:00:00</td>\n",
              "      <td>4.200000e+05</td>\n",
              "      <td>3.0</td>\n",
              "      <td>2.25</td>\n",
              "      <td>2000</td>\n",
              "      <td>8030</td>\n",
              "      <td>1.0</td>\n",
              "      <td>0</td>\n",
              "      <td>0</td>\n",
              "      <td>4</td>\n",
              "      <td>1000</td>\n",
              "      <td>1000</td>\n",
              "      <td>1963</td>\n",
              "      <td>0</td>\n",
              "      <td>857 170th Pl NE</td>\n",
              "      <td>Bellevue</td>\n",
              "      <td>WA 98008</td>\n",
              "      <td>USA</td>\n",
              "    </tr>\n",
              "    <tr>\n",
              "      <th>4</th>\n",
              "      <td>2014-05-02 00:00:00</td>\n",
              "      <td>5.500000e+05</td>\n",
              "      <td>4.0</td>\n",
              "      <td>2.50</td>\n",
              "      <td>1940</td>\n",
              "      <td>10500</td>\n",
              "      <td>1.0</td>\n",
              "      <td>0</td>\n",
              "      <td>0</td>\n",
              "      <td>4</td>\n",
              "      <td>1140</td>\n",
              "      <td>800</td>\n",
              "      <td>1976</td>\n",
              "      <td>1992</td>\n",
              "      <td>9105 170th Ave NE</td>\n",
              "      <td>Redmond</td>\n",
              "      <td>WA 98052</td>\n",
              "      <td>USA</td>\n",
              "    </tr>\n",
              "    <tr>\n",
              "      <th>...</th>\n",
              "      <td>...</td>\n",
              "      <td>...</td>\n",
              "      <td>...</td>\n",
              "      <td>...</td>\n",
              "      <td>...</td>\n",
              "      <td>...</td>\n",
              "      <td>...</td>\n",
              "      <td>...</td>\n",
              "      <td>...</td>\n",
              "      <td>...</td>\n",
              "      <td>...</td>\n",
              "      <td>...</td>\n",
              "      <td>...</td>\n",
              "      <td>...</td>\n",
              "      <td>...</td>\n",
              "      <td>...</td>\n",
              "      <td>...</td>\n",
              "      <td>...</td>\n",
              "    </tr>\n",
              "    <tr>\n",
              "      <th>4595</th>\n",
              "      <td>2014-07-09 00:00:00</td>\n",
              "      <td>3.081667e+05</td>\n",
              "      <td>3.0</td>\n",
              "      <td>1.75</td>\n",
              "      <td>1510</td>\n",
              "      <td>6360</td>\n",
              "      <td>1.0</td>\n",
              "      <td>0</td>\n",
              "      <td>0</td>\n",
              "      <td>4</td>\n",
              "      <td>1510</td>\n",
              "      <td>0</td>\n",
              "      <td>1954</td>\n",
              "      <td>1979</td>\n",
              "      <td>501 N 143rd St</td>\n",
              "      <td>Seattle</td>\n",
              "      <td>WA 98133</td>\n",
              "      <td>USA</td>\n",
              "    </tr>\n",
              "    <tr>\n",
              "      <th>4596</th>\n",
              "      <td>2014-07-09 00:00:00</td>\n",
              "      <td>5.343333e+05</td>\n",
              "      <td>3.0</td>\n",
              "      <td>2.50</td>\n",
              "      <td>1460</td>\n",
              "      <td>7573</td>\n",
              "      <td>2.0</td>\n",
              "      <td>0</td>\n",
              "      <td>0</td>\n",
              "      <td>3</td>\n",
              "      <td>1460</td>\n",
              "      <td>0</td>\n",
              "      <td>1983</td>\n",
              "      <td>2009</td>\n",
              "      <td>14855 SE 10th Pl</td>\n",
              "      <td>Bellevue</td>\n",
              "      <td>WA 98007</td>\n",
              "      <td>USA</td>\n",
              "    </tr>\n",
              "    <tr>\n",
              "      <th>4597</th>\n",
              "      <td>2014-07-09 00:00:00</td>\n",
              "      <td>4.169042e+05</td>\n",
              "      <td>3.0</td>\n",
              "      <td>2.50</td>\n",
              "      <td>3010</td>\n",
              "      <td>7014</td>\n",
              "      <td>2.0</td>\n",
              "      <td>0</td>\n",
              "      <td>0</td>\n",
              "      <td>3</td>\n",
              "      <td>3010</td>\n",
              "      <td>0</td>\n",
              "      <td>2009</td>\n",
              "      <td>0</td>\n",
              "      <td>759 Ilwaco Pl NE</td>\n",
              "      <td>Renton</td>\n",
              "      <td>WA 98059</td>\n",
              "      <td>USA</td>\n",
              "    </tr>\n",
              "    <tr>\n",
              "      <th>4598</th>\n",
              "      <td>2014-07-10 00:00:00</td>\n",
              "      <td>2.034000e+05</td>\n",
              "      <td>4.0</td>\n",
              "      <td>2.00</td>\n",
              "      <td>2090</td>\n",
              "      <td>6630</td>\n",
              "      <td>1.0</td>\n",
              "      <td>0</td>\n",
              "      <td>0</td>\n",
              "      <td>3</td>\n",
              "      <td>1070</td>\n",
              "      <td>1020</td>\n",
              "      <td>1974</td>\n",
              "      <td>0</td>\n",
              "      <td>5148 S Creston St</td>\n",
              "      <td>Seattle</td>\n",
              "      <td>WA 98178</td>\n",
              "      <td>USA</td>\n",
              "    </tr>\n",
              "    <tr>\n",
              "      <th>4599</th>\n",
              "      <td>2014-07-10 00:00:00</td>\n",
              "      <td>2.206000e+05</td>\n",
              "      <td>3.0</td>\n",
              "      <td>2.50</td>\n",
              "      <td>1490</td>\n",
              "      <td>8102</td>\n",
              "      <td>2.0</td>\n",
              "      <td>0</td>\n",
              "      <td>0</td>\n",
              "      <td>4</td>\n",
              "      <td>1490</td>\n",
              "      <td>0</td>\n",
              "      <td>1990</td>\n",
              "      <td>0</td>\n",
              "      <td>18717 SE 258th St</td>\n",
              "      <td>Covington</td>\n",
              "      <td>WA 98042</td>\n",
              "      <td>USA</td>\n",
              "    </tr>\n",
              "  </tbody>\n",
              "</table>\n",
              "<p>4600 rows × 18 columns</p>\n",
              "</div>\n",
              "      <button class=\"colab-df-convert\" onclick=\"convertToInteractive('df-e1cd2a69-fa5c-495f-8f37-a4765d8d2092')\"\n",
              "              title=\"Convert this dataframe to an interactive table.\"\n",
              "              style=\"display:none;\">\n",
              "        \n",
              "  <svg xmlns=\"http://www.w3.org/2000/svg\" height=\"24px\"viewBox=\"0 0 24 24\"\n",
              "       width=\"24px\">\n",
              "    <path d=\"M0 0h24v24H0V0z\" fill=\"none\"/>\n",
              "    <path d=\"M18.56 5.44l.94 2.06.94-2.06 2.06-.94-2.06-.94-.94-2.06-.94 2.06-2.06.94zm-11 1L8.5 8.5l.94-2.06 2.06-.94-2.06-.94L8.5 2.5l-.94 2.06-2.06.94zm10 10l.94 2.06.94-2.06 2.06-.94-2.06-.94-.94-2.06-.94 2.06-2.06.94z\"/><path d=\"M17.41 7.96l-1.37-1.37c-.4-.4-.92-.59-1.43-.59-.52 0-1.04.2-1.43.59L10.3 9.45l-7.72 7.72c-.78.78-.78 2.05 0 2.83L4 21.41c.39.39.9.59 1.41.59.51 0 1.02-.2 1.41-.59l7.78-7.78 2.81-2.81c.8-.78.8-2.07 0-2.86zM5.41 20L4 18.59l7.72-7.72 1.47 1.35L5.41 20z\"/>\n",
              "  </svg>\n",
              "      </button>\n",
              "      \n",
              "  <style>\n",
              "    .colab-df-container {\n",
              "      display:flex;\n",
              "      flex-wrap:wrap;\n",
              "      gap: 12px;\n",
              "    }\n",
              "\n",
              "    .colab-df-convert {\n",
              "      background-color: #E8F0FE;\n",
              "      border: none;\n",
              "      border-radius: 50%;\n",
              "      cursor: pointer;\n",
              "      display: none;\n",
              "      fill: #1967D2;\n",
              "      height: 32px;\n",
              "      padding: 0 0 0 0;\n",
              "      width: 32px;\n",
              "    }\n",
              "\n",
              "    .colab-df-convert:hover {\n",
              "      background-color: #E2EBFA;\n",
              "      box-shadow: 0px 1px 2px rgba(60, 64, 67, 0.3), 0px 1px 3px 1px rgba(60, 64, 67, 0.15);\n",
              "      fill: #174EA6;\n",
              "    }\n",
              "\n",
              "    [theme=dark] .colab-df-convert {\n",
              "      background-color: #3B4455;\n",
              "      fill: #D2E3FC;\n",
              "    }\n",
              "\n",
              "    [theme=dark] .colab-df-convert:hover {\n",
              "      background-color: #434B5C;\n",
              "      box-shadow: 0px 1px 3px 1px rgba(0, 0, 0, 0.15);\n",
              "      filter: drop-shadow(0px 1px 2px rgba(0, 0, 0, 0.3));\n",
              "      fill: #FFFFFF;\n",
              "    }\n",
              "  </style>\n",
              "\n",
              "      <script>\n",
              "        const buttonEl =\n",
              "          document.querySelector('#df-e1cd2a69-fa5c-495f-8f37-a4765d8d2092 button.colab-df-convert');\n",
              "        buttonEl.style.display =\n",
              "          google.colab.kernel.accessAllowed ? 'block' : 'none';\n",
              "\n",
              "        async function convertToInteractive(key) {\n",
              "          const element = document.querySelector('#df-e1cd2a69-fa5c-495f-8f37-a4765d8d2092');\n",
              "          const dataTable =\n",
              "            await google.colab.kernel.invokeFunction('convertToInteractive',\n",
              "                                                     [key], {});\n",
              "          if (!dataTable) return;\n",
              "\n",
              "          const docLinkHtml = 'Like what you see? Visit the ' +\n",
              "            '<a target=\"_blank\" href=https://colab.research.google.com/notebooks/data_table.ipynb>data table notebook</a>'\n",
              "            + ' to learn more about interactive tables.';\n",
              "          element.innerHTML = '';\n",
              "          dataTable['output_type'] = 'display_data';\n",
              "          await google.colab.output.renderOutput(dataTable, element);\n",
              "          const docLink = document.createElement('div');\n",
              "          docLink.innerHTML = docLinkHtml;\n",
              "          element.appendChild(docLink);\n",
              "        }\n",
              "      </script>\n",
              "    </div>\n",
              "  </div>\n",
              "  "
            ],
            "text/plain": [
              "                     date         price  bedrooms  bathrooms  sqft_living  \\\n",
              "0     2014-05-02 00:00:00  3.130000e+05       3.0       1.50         1340   \n",
              "1     2014-05-02 00:00:00  2.384000e+06       5.0       2.50         3650   \n",
              "2     2014-05-02 00:00:00  3.420000e+05       3.0       2.00         1930   \n",
              "3     2014-05-02 00:00:00  4.200000e+05       3.0       2.25         2000   \n",
              "4     2014-05-02 00:00:00  5.500000e+05       4.0       2.50         1940   \n",
              "...                   ...           ...       ...        ...          ...   \n",
              "4595  2014-07-09 00:00:00  3.081667e+05       3.0       1.75         1510   \n",
              "4596  2014-07-09 00:00:00  5.343333e+05       3.0       2.50         1460   \n",
              "4597  2014-07-09 00:00:00  4.169042e+05       3.0       2.50         3010   \n",
              "4598  2014-07-10 00:00:00  2.034000e+05       4.0       2.00         2090   \n",
              "4599  2014-07-10 00:00:00  2.206000e+05       3.0       2.50         1490   \n",
              "\n",
              "      sqft_lot  floors  waterfront  view  condition  sqft_above  \\\n",
              "0         7912     1.5           0     0          3        1340   \n",
              "1         9050     2.0           0     4          5        3370   \n",
              "2        11947     1.0           0     0          4        1930   \n",
              "3         8030     1.0           0     0          4        1000   \n",
              "4        10500     1.0           0     0          4        1140   \n",
              "...        ...     ...         ...   ...        ...         ...   \n",
              "4595      6360     1.0           0     0          4        1510   \n",
              "4596      7573     2.0           0     0          3        1460   \n",
              "4597      7014     2.0           0     0          3        3010   \n",
              "4598      6630     1.0           0     0          3        1070   \n",
              "4599      8102     2.0           0     0          4        1490   \n",
              "\n",
              "      sqft_basement  yr_built  yr_renovated                    street  \\\n",
              "0                 0      1955          2005      18810 Densmore Ave N   \n",
              "1               280      1921             0           709 W Blaine St   \n",
              "2                 0      1966             0  26206-26214 143rd Ave SE   \n",
              "3              1000      1963             0           857 170th Pl NE   \n",
              "4               800      1976          1992         9105 170th Ave NE   \n",
              "...             ...       ...           ...                       ...   \n",
              "4595              0      1954          1979            501 N 143rd St   \n",
              "4596              0      1983          2009          14855 SE 10th Pl   \n",
              "4597              0      2009             0          759 Ilwaco Pl NE   \n",
              "4598           1020      1974             0         5148 S Creston St   \n",
              "4599              0      1990             0         18717 SE 258th St   \n",
              "\n",
              "           city  statezip country  \n",
              "0     Shoreline  WA 98133     USA  \n",
              "1       Seattle  WA 98119     USA  \n",
              "2          Kent  WA 98042     USA  \n",
              "3      Bellevue  WA 98008     USA  \n",
              "4       Redmond  WA 98052     USA  \n",
              "...         ...       ...     ...  \n",
              "4595    Seattle  WA 98133     USA  \n",
              "4596   Bellevue  WA 98007     USA  \n",
              "4597     Renton  WA 98059     USA  \n",
              "4598    Seattle  WA 98178     USA  \n",
              "4599  Covington  WA 98042     USA  \n",
              "\n",
              "[4600 rows x 18 columns]"
            ]
          },
          "execution_count": 4,
          "metadata": {},
          "output_type": "execute_result"
        }
      ],
      "source": [
        "estate_df"
      ]
    },
    {
      "cell_type": "code",
      "execution_count": null,
      "metadata": {
        "colab": {
          "base_uri": "https://localhost:8080/"
        },
        "id": "cOhsdxMk_sPZ",
        "outputId": "6f68aecf-2027-4a7a-89a9-912ec0072f08"
      },
      "outputs": [
        {
          "name": "stdout",
          "output_type": "stream",
          "text": [
            "<class 'pandas.core.frame.DataFrame'>\n",
            "RangeIndex: 4600 entries, 0 to 4599\n",
            "Data columns (total 18 columns):\n",
            " #   Column         Non-Null Count  Dtype  \n",
            "---  ------         --------------  -----  \n",
            " 0   date           4600 non-null   object \n",
            " 1   price          4600 non-null   float64\n",
            " 2   bedrooms       4600 non-null   float64\n",
            " 3   bathrooms      4600 non-null   float64\n",
            " 4   sqft_living    4600 non-null   int64  \n",
            " 5   sqft_lot       4600 non-null   int64  \n",
            " 6   floors         4600 non-null   float64\n",
            " 7   waterfront     4600 non-null   int64  \n",
            " 8   view           4600 non-null   int64  \n",
            " 9   condition      4600 non-null   int64  \n",
            " 10  sqft_above     4600 non-null   int64  \n",
            " 11  sqft_basement  4600 non-null   int64  \n",
            " 12  yr_built       4600 non-null   int64  \n",
            " 13  yr_renovated   4600 non-null   int64  \n",
            " 14  street         4600 non-null   object \n",
            " 15  city           4600 non-null   object \n",
            " 16  statezip       4600 non-null   object \n",
            " 17  country        4600 non-null   object \n",
            "dtypes: float64(4), int64(9), object(5)\n",
            "memory usage: 647.0+ KB\n"
          ]
        }
      ],
      "source": [
        "estate_df.info()"
      ]
    },
    {
      "cell_type": "code",
      "execution_count": null,
      "metadata": {
        "colab": {
          "base_uri": "https://localhost:8080/",
          "height": 364
        },
        "id": "Xg9Ry-wk_wOC",
        "outputId": "6b9b3367-9427-4652-bf25-6cab63167e38"
      },
      "outputs": [
        {
          "data": {
            "text/html": [
              "\n",
              "  <div id=\"df-d0a6c9db-3d5b-4c24-8a7a-c0889a6a235c\">\n",
              "    <div class=\"colab-df-container\">\n",
              "      <div>\n",
              "<style scoped>\n",
              "    .dataframe tbody tr th:only-of-type {\n",
              "        vertical-align: middle;\n",
              "    }\n",
              "\n",
              "    .dataframe tbody tr th {\n",
              "        vertical-align: top;\n",
              "    }\n",
              "\n",
              "    .dataframe thead th {\n",
              "        text-align: right;\n",
              "    }\n",
              "</style>\n",
              "<table border=\"1\" class=\"dataframe\">\n",
              "  <thead>\n",
              "    <tr style=\"text-align: right;\">\n",
              "      <th></th>\n",
              "      <th>price</th>\n",
              "      <th>bedrooms</th>\n",
              "      <th>bathrooms</th>\n",
              "      <th>sqft_living</th>\n",
              "      <th>sqft_lot</th>\n",
              "      <th>floors</th>\n",
              "      <th>waterfront</th>\n",
              "      <th>view</th>\n",
              "      <th>condition</th>\n",
              "      <th>sqft_above</th>\n",
              "      <th>sqft_basement</th>\n",
              "      <th>yr_built</th>\n",
              "      <th>yr_renovated</th>\n",
              "    </tr>\n",
              "  </thead>\n",
              "  <tbody>\n",
              "    <tr>\n",
              "      <th>count</th>\n",
              "      <td>4.600000e+03</td>\n",
              "      <td>4600.000000</td>\n",
              "      <td>4600.000000</td>\n",
              "      <td>4600.000000</td>\n",
              "      <td>4.600000e+03</td>\n",
              "      <td>4600.000000</td>\n",
              "      <td>4600.000000</td>\n",
              "      <td>4600.000000</td>\n",
              "      <td>4600.000000</td>\n",
              "      <td>4600.000000</td>\n",
              "      <td>4600.000000</td>\n",
              "      <td>4600.000000</td>\n",
              "      <td>4600.000000</td>\n",
              "    </tr>\n",
              "    <tr>\n",
              "      <th>mean</th>\n",
              "      <td>5.519630e+05</td>\n",
              "      <td>3.400870</td>\n",
              "      <td>2.160815</td>\n",
              "      <td>2139.346957</td>\n",
              "      <td>1.485252e+04</td>\n",
              "      <td>1.512065</td>\n",
              "      <td>0.007174</td>\n",
              "      <td>0.240652</td>\n",
              "      <td>3.451739</td>\n",
              "      <td>1827.265435</td>\n",
              "      <td>312.081522</td>\n",
              "      <td>1970.786304</td>\n",
              "      <td>808.608261</td>\n",
              "    </tr>\n",
              "    <tr>\n",
              "      <th>std</th>\n",
              "      <td>5.638347e+05</td>\n",
              "      <td>0.908848</td>\n",
              "      <td>0.783781</td>\n",
              "      <td>963.206916</td>\n",
              "      <td>3.588444e+04</td>\n",
              "      <td>0.538288</td>\n",
              "      <td>0.084404</td>\n",
              "      <td>0.778405</td>\n",
              "      <td>0.677230</td>\n",
              "      <td>862.168977</td>\n",
              "      <td>464.137228</td>\n",
              "      <td>29.731848</td>\n",
              "      <td>979.414536</td>\n",
              "    </tr>\n",
              "    <tr>\n",
              "      <th>min</th>\n",
              "      <td>0.000000e+00</td>\n",
              "      <td>0.000000</td>\n",
              "      <td>0.000000</td>\n",
              "      <td>370.000000</td>\n",
              "      <td>6.380000e+02</td>\n",
              "      <td>1.000000</td>\n",
              "      <td>0.000000</td>\n",
              "      <td>0.000000</td>\n",
              "      <td>1.000000</td>\n",
              "      <td>370.000000</td>\n",
              "      <td>0.000000</td>\n",
              "      <td>1900.000000</td>\n",
              "      <td>0.000000</td>\n",
              "    </tr>\n",
              "    <tr>\n",
              "      <th>25%</th>\n",
              "      <td>3.228750e+05</td>\n",
              "      <td>3.000000</td>\n",
              "      <td>1.750000</td>\n",
              "      <td>1460.000000</td>\n",
              "      <td>5.000750e+03</td>\n",
              "      <td>1.000000</td>\n",
              "      <td>0.000000</td>\n",
              "      <td>0.000000</td>\n",
              "      <td>3.000000</td>\n",
              "      <td>1190.000000</td>\n",
              "      <td>0.000000</td>\n",
              "      <td>1951.000000</td>\n",
              "      <td>0.000000</td>\n",
              "    </tr>\n",
              "    <tr>\n",
              "      <th>50%</th>\n",
              "      <td>4.609435e+05</td>\n",
              "      <td>3.000000</td>\n",
              "      <td>2.250000</td>\n",
              "      <td>1980.000000</td>\n",
              "      <td>7.683000e+03</td>\n",
              "      <td>1.500000</td>\n",
              "      <td>0.000000</td>\n",
              "      <td>0.000000</td>\n",
              "      <td>3.000000</td>\n",
              "      <td>1590.000000</td>\n",
              "      <td>0.000000</td>\n",
              "      <td>1976.000000</td>\n",
              "      <td>0.000000</td>\n",
              "    </tr>\n",
              "    <tr>\n",
              "      <th>75%</th>\n",
              "      <td>6.549625e+05</td>\n",
              "      <td>4.000000</td>\n",
              "      <td>2.500000</td>\n",
              "      <td>2620.000000</td>\n",
              "      <td>1.100125e+04</td>\n",
              "      <td>2.000000</td>\n",
              "      <td>0.000000</td>\n",
              "      <td>0.000000</td>\n",
              "      <td>4.000000</td>\n",
              "      <td>2300.000000</td>\n",
              "      <td>610.000000</td>\n",
              "      <td>1997.000000</td>\n",
              "      <td>1999.000000</td>\n",
              "    </tr>\n",
              "    <tr>\n",
              "      <th>max</th>\n",
              "      <td>2.659000e+07</td>\n",
              "      <td>9.000000</td>\n",
              "      <td>8.000000</td>\n",
              "      <td>13540.000000</td>\n",
              "      <td>1.074218e+06</td>\n",
              "      <td>3.500000</td>\n",
              "      <td>1.000000</td>\n",
              "      <td>4.000000</td>\n",
              "      <td>5.000000</td>\n",
              "      <td>9410.000000</td>\n",
              "      <td>4820.000000</td>\n",
              "      <td>2014.000000</td>\n",
              "      <td>2014.000000</td>\n",
              "    </tr>\n",
              "  </tbody>\n",
              "</table>\n",
              "</div>\n",
              "      <button class=\"colab-df-convert\" onclick=\"convertToInteractive('df-d0a6c9db-3d5b-4c24-8a7a-c0889a6a235c')\"\n",
              "              title=\"Convert this dataframe to an interactive table.\"\n",
              "              style=\"display:none;\">\n",
              "        \n",
              "  <svg xmlns=\"http://www.w3.org/2000/svg\" height=\"24px\"viewBox=\"0 0 24 24\"\n",
              "       width=\"24px\">\n",
              "    <path d=\"M0 0h24v24H0V0z\" fill=\"none\"/>\n",
              "    <path d=\"M18.56 5.44l.94 2.06.94-2.06 2.06-.94-2.06-.94-.94-2.06-.94 2.06-2.06.94zm-11 1L8.5 8.5l.94-2.06 2.06-.94-2.06-.94L8.5 2.5l-.94 2.06-2.06.94zm10 10l.94 2.06.94-2.06 2.06-.94-2.06-.94-.94-2.06-.94 2.06-2.06.94z\"/><path d=\"M17.41 7.96l-1.37-1.37c-.4-.4-.92-.59-1.43-.59-.52 0-1.04.2-1.43.59L10.3 9.45l-7.72 7.72c-.78.78-.78 2.05 0 2.83L4 21.41c.39.39.9.59 1.41.59.51 0 1.02-.2 1.41-.59l7.78-7.78 2.81-2.81c.8-.78.8-2.07 0-2.86zM5.41 20L4 18.59l7.72-7.72 1.47 1.35L5.41 20z\"/>\n",
              "  </svg>\n",
              "      </button>\n",
              "      \n",
              "  <style>\n",
              "    .colab-df-container {\n",
              "      display:flex;\n",
              "      flex-wrap:wrap;\n",
              "      gap: 12px;\n",
              "    }\n",
              "\n",
              "    .colab-df-convert {\n",
              "      background-color: #E8F0FE;\n",
              "      border: none;\n",
              "      border-radius: 50%;\n",
              "      cursor: pointer;\n",
              "      display: none;\n",
              "      fill: #1967D2;\n",
              "      height: 32px;\n",
              "      padding: 0 0 0 0;\n",
              "      width: 32px;\n",
              "    }\n",
              "\n",
              "    .colab-df-convert:hover {\n",
              "      background-color: #E2EBFA;\n",
              "      box-shadow: 0px 1px 2px rgba(60, 64, 67, 0.3), 0px 1px 3px 1px rgba(60, 64, 67, 0.15);\n",
              "      fill: #174EA6;\n",
              "    }\n",
              "\n",
              "    [theme=dark] .colab-df-convert {\n",
              "      background-color: #3B4455;\n",
              "      fill: #D2E3FC;\n",
              "    }\n",
              "\n",
              "    [theme=dark] .colab-df-convert:hover {\n",
              "      background-color: #434B5C;\n",
              "      box-shadow: 0px 1px 3px 1px rgba(0, 0, 0, 0.15);\n",
              "      filter: drop-shadow(0px 1px 2px rgba(0, 0, 0, 0.3));\n",
              "      fill: #FFFFFF;\n",
              "    }\n",
              "  </style>\n",
              "\n",
              "      <script>\n",
              "        const buttonEl =\n",
              "          document.querySelector('#df-d0a6c9db-3d5b-4c24-8a7a-c0889a6a235c button.colab-df-convert');\n",
              "        buttonEl.style.display =\n",
              "          google.colab.kernel.accessAllowed ? 'block' : 'none';\n",
              "\n",
              "        async function convertToInteractive(key) {\n",
              "          const element = document.querySelector('#df-d0a6c9db-3d5b-4c24-8a7a-c0889a6a235c');\n",
              "          const dataTable =\n",
              "            await google.colab.kernel.invokeFunction('convertToInteractive',\n",
              "                                                     [key], {});\n",
              "          if (!dataTable) return;\n",
              "\n",
              "          const docLinkHtml = 'Like what you see? Visit the ' +\n",
              "            '<a target=\"_blank\" href=https://colab.research.google.com/notebooks/data_table.ipynb>data table notebook</a>'\n",
              "            + ' to learn more about interactive tables.';\n",
              "          element.innerHTML = '';\n",
              "          dataTable['output_type'] = 'display_data';\n",
              "          await google.colab.output.renderOutput(dataTable, element);\n",
              "          const docLink = document.createElement('div');\n",
              "          docLink.innerHTML = docLinkHtml;\n",
              "          element.appendChild(docLink);\n",
              "        }\n",
              "      </script>\n",
              "    </div>\n",
              "  </div>\n",
              "  "
            ],
            "text/plain": [
              "              price     bedrooms    bathrooms   sqft_living      sqft_lot  \\\n",
              "count  4.600000e+03  4600.000000  4600.000000   4600.000000  4.600000e+03   \n",
              "mean   5.519630e+05     3.400870     2.160815   2139.346957  1.485252e+04   \n",
              "std    5.638347e+05     0.908848     0.783781    963.206916  3.588444e+04   \n",
              "min    0.000000e+00     0.000000     0.000000    370.000000  6.380000e+02   \n",
              "25%    3.228750e+05     3.000000     1.750000   1460.000000  5.000750e+03   \n",
              "50%    4.609435e+05     3.000000     2.250000   1980.000000  7.683000e+03   \n",
              "75%    6.549625e+05     4.000000     2.500000   2620.000000  1.100125e+04   \n",
              "max    2.659000e+07     9.000000     8.000000  13540.000000  1.074218e+06   \n",
              "\n",
              "            floors   waterfront         view    condition   sqft_above  \\\n",
              "count  4600.000000  4600.000000  4600.000000  4600.000000  4600.000000   \n",
              "mean      1.512065     0.007174     0.240652     3.451739  1827.265435   \n",
              "std       0.538288     0.084404     0.778405     0.677230   862.168977   \n",
              "min       1.000000     0.000000     0.000000     1.000000   370.000000   \n",
              "25%       1.000000     0.000000     0.000000     3.000000  1190.000000   \n",
              "50%       1.500000     0.000000     0.000000     3.000000  1590.000000   \n",
              "75%       2.000000     0.000000     0.000000     4.000000  2300.000000   \n",
              "max       3.500000     1.000000     4.000000     5.000000  9410.000000   \n",
              "\n",
              "       sqft_basement     yr_built  yr_renovated  \n",
              "count    4600.000000  4600.000000   4600.000000  \n",
              "mean      312.081522  1970.786304    808.608261  \n",
              "std       464.137228    29.731848    979.414536  \n",
              "min         0.000000  1900.000000      0.000000  \n",
              "25%         0.000000  1951.000000      0.000000  \n",
              "50%         0.000000  1976.000000      0.000000  \n",
              "75%       610.000000  1997.000000   1999.000000  \n",
              "max      4820.000000  2014.000000   2014.000000  "
            ]
          },
          "execution_count": 5,
          "metadata": {},
          "output_type": "execute_result"
        }
      ],
      "source": [
        "estate_df.describe()"
      ]
    },
    {
      "cell_type": "code",
      "execution_count": null,
      "metadata": {
        "colab": {
          "base_uri": "https://localhost:8080/"
        },
        "id": "XD1Rurj3CJoc",
        "outputId": "92af42f2-ca09-4e5c-9092-8ebc252d1224"
      },
      "outputs": [
        {
          "data": {
            "text/plain": [
              "date                0\n",
              "price              49\n",
              "bedrooms            2\n",
              "bathrooms           2\n",
              "sqft_living         0\n",
              "sqft_lot            0\n",
              "floors              0\n",
              "waterfront       4567\n",
              "view             4140\n",
              "condition           0\n",
              "sqft_above          0\n",
              "sqft_basement    2745\n",
              "yr_built            0\n",
              "yr_renovated     2735\n",
              "street              0\n",
              "city                0\n",
              "statezip            0\n",
              "country             0\n",
              "dtype: int64"
            ]
          },
          "execution_count": 6,
          "metadata": {},
          "output_type": "execute_result"
        }
      ],
      "source": [
        "estate_df[estate_df==0].count()"
      ]
    },
    {
      "cell_type": "code",
      "execution_count": null,
      "metadata": {
        "colab": {
          "base_uri": "https://localhost:8080/"
        },
        "id": "EcJDWeNjCsP8",
        "outputId": "9a382297-cd91-4187-b870-83ab6a0ea881"
      },
      "outputs": [
        {
          "data": {
            "text/plain": [
              "array(['date', 'price', 'bedrooms', 'bathrooms', 'sqft_living',\n",
              "       'sqft_lot', 'floors', 'waterfront', 'view', 'condition',\n",
              "       'sqft_above', 'sqft_basement', 'yr_built', 'yr_renovated',\n",
              "       'street', 'city', 'statezip', 'country'], dtype=object)"
            ]
          },
          "execution_count": 8,
          "metadata": {},
          "output_type": "execute_result"
        }
      ],
      "source": [
        "estate_df.columns.values"
      ]
    },
    {
      "cell_type": "code",
      "execution_count": null,
      "metadata": {
        "colab": {
          "base_uri": "https://localhost:8080/",
          "height": 1000
        },
        "id": "01SnoXqg_1B3",
        "outputId": "2a792275-c11d-4e62-acfe-6866f2ef40f9"
      },
      "outputs": [
        {
          "data": {
            "image/png": "[encoded data removed]",
            "text/plain": [
              "<Figure size 720x1440 with 10 Axes>"
            ]
          },
          "metadata": {
            "needs_background": "light"
          },
          "output_type": "display_data"
        }
      ],
      "source": [
        "def scatter(x,fig):\n",
        "    plt.subplot(5,2,fig)\n",
        "    plt.scatter(estate_df[x],estate_df['price'])\n",
        "    plt.title(x+' vs Price')\n",
        "    plt.ylabel('Price')\n",
        "    plt.xlabel(x)\n",
        "plt.figure(figsize=(10,20))\n",
        "\n",
        "head=['bedrooms', 'bathrooms', 'sqft_living',\n",
        "       'sqft_lot', 'floors', 'waterfront', 'view', 'condition',\n",
        "       'sqft_above', 'sqft_basement']\n",
        "j=1\n",
        "for i in head:\n",
        "  scatter(i,j)\n",
        "  j=j+1\n",
        "plt.tight_layout()  "
      ]
    },
    {
      "cell_type": "code",
      "execution_count": null,
      "metadata": {
        "colab": {
          "base_uri": "https://localhost:8080/",
          "height": 350
        },
        "id": "Jzqx8sTYEoLY",
        "outputId": "8f1f5651-cd7e-433b-937e-3b9fd826d6c3"
      },
      "outputs": [
        {
          "data": {
            "text/plain": [
              "<matplotlib.axes._subplots.AxesSubplot at 0x7f79acffb6d0>"
            ]
          },
          "execution_count": 13,
          "metadata": {},
          "output_type": "execute_result"
        },
        {
          "data": {
            "image/png": "[encoded data removed]",
            "text/plain": [
              "<Figure size 432x288 with 2 Axes>"
            ]
          },
          "metadata": {
            "needs_background": "light"
          },
          "output_type": "display_data"
        }
      ],
      "source": [
        "sns.heatmap(estate_df.corr(), cmap='Reds', annot = True)"
      ]
    },
    {
      "cell_type": "markdown",
      "metadata": {
        "id": "Cqw04H3IIbdq"
      },
      "source": [
        "sqft_living,"
      ]
    },
    {
      "cell_type": "code",
      "execution_count": null,
      "metadata": {
        "colab": {
          "base_uri": "https://localhost:8080/"
        },
        "id": "EX9hTNTVlu5f",
        "outputId": "2943f1da-d31e-4eb8-a258-e52041f05286"
      },
      "outputs": [
        {
          "name": "stdout",
          "output_type": "stream",
          "text": [
            "Correlation of Price and  bedrooms  :  0.20033628937567596\n",
            "Correlation of Price and  bathrooms  :  0.3271099182877354\n",
            "Correlation of Price and  sqft_living  :  0.43041002543262824\n",
            "Correlation of Price and  sqft_lot  :  0.050451295032348874\n",
            "Correlation of Price and  floors  :  0.1514608005367779\n",
            "Correlation of Price and  waterfront  :  0.13564832245848615\n",
            "Correlation of Price and  view  :  0.22850417280567356\n",
            "Correlation of Price and  condition  :  0.03491453732641416\n",
            "Correlation of Price and  sqft_above  :  0.3675696016004261\n",
            "Correlation of Price and  sqft_basement  :  0.21042657177482943\n",
            "Values with high correaltion : ['bathrooms', 'sqft_living', 'sqft_above']\n"
          ]
        }
      ],
      "source": [
        "high_val=[]\n",
        "x=0\n",
        "for i in head:\n",
        "  v=estate_df.price.corr(estate_df[i])\n",
        "  print('Correlation of Price and ',i,' : ',v)\n",
        "  if  v>=0.3:\n",
        "    high_val.append(i)\n",
        "print('Values with high correaltion :',high_val)    "
      ]
    },
    {
      "cell_type": "code",
      "execution_count": 40,
      "metadata": {
        "id": "El0ZznlMnfac"
      },
      "outputs": [],
      "source": [
        "x=estate_df[['sqft_living']]\n",
        "y=estate_df[['price']]\n",
        "x_train,x_test,y_train,y_test=train_test_split(x,y,test_size=0.4)"
      ]
    },
    {
      "cell_type": "code",
      "execution_count": 41,
      "metadata": {
        "colab": {
          "base_uri": "https://localhost:8080/"
        },
        "id": "57yhetusoS88",
        "outputId": "ad898ce1-b2ec-4493-c8c8-5e799d47a34b"
      },
      "outputs": [
        {
          "data": {
            "text/plain": [
              "LinearRegression()"
            ]
          },
          "execution_count": 41,
          "metadata": {},
          "output_type": "execute_result"
        }
      ],
      "source": [
        "lr=LinearRegression()\n",
        "lr.fit(x_train,y_train)"
      ]
    },
    {
      "cell_type": "code",
      "execution_count": 42,
      "metadata": {
        "colab": {
          "base_uri": "https://localhost:8080/"
        },
        "id": "0ZeRqbALoXOL",
        "outputId": "7c99c977-7384-4a71-ec56-b2b52268a540"
      },
      "outputs": [
        {
          "data": {
            "text/plain": [
              "array([[714080.46746466],\n",
              "       [447197.16780209],\n",
              "       [334461.98087566],\n",
              "       ...,\n",
              "       [486309.37551126],\n",
              "       [265440.43785948],\n",
              "       [263139.71975894]])"
            ]
          },
          "execution_count": 42,
          "metadata": {},
          "output_type": "execute_result"
        }
      ],
      "source": [
        "lr.predict(x_test)"
      ]
    },
    {
      "cell_type": "code",
      "execution_count": 43,
      "metadata": {
        "colab": {
          "base_uri": "https://localhost:8080/"
        },
        "id": "vH1dHDryotpA",
        "outputId": "c793aa8d-3e45-4d54-8b1f-53923e768c75"
      },
      "outputs": [
        {
          "data": {
            "text/plain": [
              "0.4455344973864275"
            ]
          },
          "execution_count": 43,
          "metadata": {},
          "output_type": "execute_result"
        }
      ],
      "source": [
        "lr.score(x_test,y_test)"
      ]
    }
  ],
  "metadata": {
    "colab": {
      "collapsed_sections": [],
      "name": "LAB MST 1 .ipynb",
      "provenance": []
    },
    "kernelspec": {
      "display_name": "Python 3",
      "name": "python3"
    },
    "language_info": {
      "name": "python"
    }
  },
  "nbformat": 4,
  "nbformat_minor": 0
}
